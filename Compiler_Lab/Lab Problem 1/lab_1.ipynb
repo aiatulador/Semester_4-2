{
  "nbformat": 4,
  "nbformat_minor": 0,
  "metadata": {
    "colab": {
      "provenance": []
    },
    "kernelspec": {
      "name": "python3",
      "display_name": "Python 3"
    },
    "language_info": {
      "name": "python"
    }
  },
  "cells": [
    {
      "cell_type": "code",
      "execution_count": null,
      "metadata": {
        "id": "lPZT3rPB3niY",
        "colab": {
          "base_uri": "https://localhost:8080/"
        },
        "outputId": "1872eaff-e49b-41e2-fca3-ebce1e7676df"
      },
      "outputs": [
        {
          "output_type": "stream",
          "name": "stdout",
          "text": [
            "['int', 'a', '=', 'b', '*', 'c', '+', '10', ';', '#', 'this_is_a_code']\n",
            "Keywords ( 1 ) : ['int']\n",
            "Identifier ( 4 ) : ['a', 'b', 'c', 'this_is_a_code']\n",
            "Arithmatic Operator ( 3 ) : ['=', '*', '+']\n",
            "Constant ( 1 ) : ['10']\n",
            "Punctuation ( 1 ) : [';']\n",
            "Comments ( 1 ) : ['#']\n"
          ]
        }
      ],
      "source": [
        "import nltk\n",
        "import re\n",
        "import keyword\n",
        "\n",
        "\n",
        "input = \"int a = b*c + 10; #this_is_a_code\"\n",
        "input_tokens = nltk.wordpunct_tokenize(input);\n",
        "\n",
        "\n",
        "\n",
        "print(input_tokens)\n",
        "\n",
        "key=[]\n",
        "operators=[]\n",
        "cons=[]\n",
        "punc=[]\n",
        "iden=[]\n",
        "com=[]\n",
        "\n",
        "Keywords = \"auto|break|case|char|const|continue|default|do|double|else|enum|extern|float|for|goto|if|int|long|register|return|short|signed|sizeof|static|struct|switch|typedef|union|unsigned|void|volatile|while|string|class|struc|include\"\n",
        "#a = keyword.kwlist\n",
        "#print(a)\n",
        "Arithmatic_Operators = \"(\\+)|(-)|(=)|(\\*)|(/)|(%)|(--)|(<=)|(>=)\"\n",
        "Numeral = \"^(\\d+)$\"\n",
        "Special_Characters = \"[\\[@&~!$\\^\\|{}\\]:;<>?,\\.']|\\(\\)|\\(|\\)|{}|\\[\\]|\\\"\"\n",
        "Identifiers = \"^[a-zA-Z_]+[a-zA-Z0-9_]*\"\n",
        "Comments = \"^#[a-zA-Z0-9_]*\"\n",
        "\n",
        "\n",
        "\n",
        "\n",
        "for token in input_tokens:\n",
        "\n",
        "    if(re.findall(Comments,token)):\n",
        "        com.append(token)\n",
        "\n",
        "    elif(re.findall(Keywords,token)):\n",
        "        key.append(token)\n",
        "\n",
        "    elif(re.findall(Arithmatic_Operators,token)):\n",
        "        operators.append(token)\n",
        "\n",
        "    elif(re.findall(Numeral,token)):\n",
        "        cons.append(token)\n",
        "\n",
        "    elif(re.findall(Special_Characters,token)):\n",
        "        punc.append(token)\n",
        "\n",
        "    elif(re.findall(Identifiers,token)):\n",
        "        iden.append(token)\n",
        "\n",
        "    else:\n",
        "        print(\"Unknown Value: \",token)\n",
        "\n",
        "number_of_keywords = len(key)\n",
        "print(\"Keywords (\",number_of_keywords,\") :\", key)\n",
        "\n",
        "number_of_identifier = len(iden)\n",
        "print(\"Identifier (\",number_of_identifier,\") :\",iden)\n",
        "\n",
        "number_of_operator = len(operators)\n",
        "print(\"Arithmatic Operator (\",number_of_operator,\") :\",operators)\n",
        "\n",
        "number_of_constant = len(cons)\n",
        "print(\"Constant (\",number_of_constant,\") :\",cons)\n",
        "\n",
        "number_of_punctuation = len(punc)\n",
        "print(\"Punctuation (\",number_of_punctuation,\") :\",punc)\n",
        "\n",
        "number_of_comments = len(com)\n",
        "print(\"Comments (\",number_of_comments,\") :\",com)"
      ]
    }
  ]
}